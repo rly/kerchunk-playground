{
 "cells": [
  {
   "cell_type": "code",
   "execution_count": null,
   "id": "f269f009-d967-4b40-b80c-9b4de34f196c",
   "metadata": {},
   "outputs": [],
   "source": [
    "# !pip install h5py s3fs xarray zstandard git+https://github.com/fsspec/kerchunk"
   ]
  },
  {
   "cell_type": "code",
   "execution_count": null,
   "id": "a16932d1-6930-493d-a6de-2a9d877f36b9",
   "metadata": {},
   "outputs": [],
   "source": [
    "from kerchunk.hdf import SingleHdf5ToZarr\n",
    "import fsspec"
   ]
  },
  {
   "cell_type": "code",
   "execution_count": null,
   "id": "249bf1cc-a01e-41cd-bcd3-912cc0ce1ac1",
   "metadata": {},
   "outputs": [],
   "source": [
    "fs = fsspec.filesystem('s3', anon=True)  # S3 file system to manage ERA5 files\n",
    "flist = (fs.glob('s3://era5-pds/2020/*/data/air_pressure_at_mean_sea_level.nc')[:2]\n",
    "        + fs.glob('s3://era5-pds/2020/*/data/*sea_surface_temperature.nc')[:2])\n",
    "\n",
    "fs2 = fsspec.filesystem('')  # local file system to save final jsons to\n",
    "\n",
    "print(flist)"
   ]
  },
  {
   "cell_type": "code",
   "execution_count": null,
   "id": "00bc6728-aa2b-4369-ab18-0af2cdabec20",
   "metadata": {},
   "outputs": [],
   "source": [
    "from pathlib import Path\n",
    "import os\n",
    "import ujson\n",
    "\n",
    "so = dict(mode='rb', anon=True, default_fill_cache=False, default_cache_type='first') # kwargs to fs.open()\n",
    "# default_fill_cache=False avoids caching data in between file chunks to lower memory usage."
   ]
  },
  {
   "cell_type": "code",
   "execution_count": null,
   "id": "59e4a372-c1ff-455c-8a21-2a0078e47339",
   "metadata": {},
   "outputs": [],
   "source": [
    "def gen_json(file_url):\n",
    "    \"\"\"Generate JSON reference files using a file_url\n",
    "    \n",
    "    file_url should be the url of the final file destination and not the current location.\n",
    "    file_url is not used to open the file and is intended to allow the user to compute the \n",
    "    reference files on data before it is uploaded to its final storage location.\n",
    "    \"\"\"\n",
    "    with fs.open(file_url, **so) as infile:\n",
    "        h5chunks = SingleHdf5ToZarr(infile, file_url, inline_threshold=300)  # 300 bytes???\n",
    "        # inline_threshold adjusts the Size below which binary blocks are included directly in the output\n",
    "        # a higher inline threshold can result in a larger json file but faster loading time\n",
    "        variable = file_url.split('/')[-1].split('.')[0]\n",
    "        month = file_url.split('/')[2]\n",
    "        outf = f'{month}_{variable}.json' # file name to save json to\n",
    "        with fs2.open(outf, 'wb') as f:\n",
    "            f.write(ujson.dumps(h5chunks.translate()).encode())"
   ]
  },
  {
   "cell_type": "code",
   "execution_count": null,
   "id": "eabef944-dad1-444d-9361-12f50ee177b1",
   "metadata": {},
   "outputs": [],
   "source": [
    "%%time\n",
    "for file in flist:\n",
    "    gen_json(file)"
   ]
  },
  {
   "cell_type": "markdown",
   "id": "ef3793d6-1a28-4d35-9f39-8535900efbfd",
   "metadata": {},
   "source": [
    "The output json file contains references under the `ref` key that represents the hierarchical group nature of the original NetCDF4 file. `.zgroup` and `.zattrs` are strings that contain JSON objects. Normally, these are files that contain a JSON object each. Each dataset is split into chunks that are encoded as either:\n",
    "1. a list where the elements are:\n",
    "    1. the source URL of the file\n",
    "    2. the byte offset to the chunk\n",
    "    3. the number of bytes to read\n",
    "2. a base64-encoded string if the size is less than the inline threshold\n",
    "\n",
    "See also https://fsspec.github.io/kerchunk/spec.html"
   ]
  },
  {
   "cell_type": "code",
   "execution_count": null,
   "id": "c7a99c25-e390-4600-913f-198cf6e3952f",
   "metadata": {},
   "outputs": [],
   "source": [
    "import xarray as xr"
   ]
  },
  {
   "cell_type": "code",
   "execution_count": null,
   "id": "0a9495ff-874a-4411-a3f7-b1891277831f",
   "metadata": {},
   "outputs": [],
   "source": [
    "%%time\n",
    "ds = xr.open_dataset(\n",
    "    \"reference://\", \n",
    "    engine=\"zarr\", \n",
    "    backend_kwargs={\n",
    "        \"consolidated\": False,\n",
    "        \"storage_options\": {\n",
    "            \"fo\": '01_air_pressure_at_mean_sea_level.json', \n",
    "            \"remote_protocol\": \"s3\",\n",
    "            \"remote_options\": {\"anon\": True},\n",
    "        },\n",
    "    },\n",
    ")\n",
    "print(ds)"
   ]
  },
  {
   "cell_type": "code",
   "execution_count": null,
   "id": "23c9df71-adb8-4304-9c98-8e4293549c40",
   "metadata": {},
   "outputs": [],
   "source": [
    "type(ds.air_pressure_at_mean_sea_level)"
   ]
  },
  {
   "cell_type": "code",
   "execution_count": null,
   "id": "1c6fc39b-8cf3-4a2e-a35e-5d0c02816d52",
   "metadata": {},
   "outputs": [],
   "source": [
    "%time\n",
    "ds.air_pressure_at_mean_sea_level[100,100,100].values"
   ]
  },
  {
   "cell_type": "markdown",
   "id": "1612828b-acf0-41b4-8753-816c6b09d6d0",
   "metadata": {},
   "source": [
    "# Using a remote reference JSON file (kerchunk does not need to be installed)"
   ]
  },
  {
   "cell_type": "markdown",
   "id": "f09d88d2-6dbd-4565-a82c-3362fb731f6c",
   "metadata": {},
   "source": [
    "## Read a remote zstd-compressed JSON file that maps to 10 ERA5 variables across a 43 year time span.\n",
    "\n",
    "The sidecar file has been compressed using zstd, from the original 1.8GB to 194MB. Opening this virtual dataset requires 7GB of free system memory."
   ]
  },
  {
   "cell_type": "code",
   "execution_count": null,
   "id": "dbe483ed-e07d-44d7-bbd8-993a87b8f3d0",
   "metadata": {},
   "outputs": [],
   "source": [
    "%%time\n",
    "fs = fsspec.filesystem(\n",
    "    'reference', \n",
    "    fo='s3://esip-qhub-public/ecmwf/ERA5_1979_2022_multivar.json.zst',\n",
    "    target_options={'compression': 'zstd', 'anon': True},\n",
    "    remote_protocol='s3', \n",
    "    remote_options={'anon': True},\n",
    ")\n",
    "\n",
    "# QUESTION: is the reference JSON loaded only into memory?"
   ]
  },
  {
   "cell_type": "code",
   "execution_count": null,
   "id": "f1d431cf-497b-4d31-a377-462c51db7336",
   "metadata": {},
   "outputs": [],
   "source": [
    "m = fs.get_mapper('')\n",
    "ds = xr.open_dataset(m, engine='zarr', backend_kwargs={'consolidated': False})\n",
    "print(ds)"
   ]
  },
  {
   "cell_type": "code",
   "execution_count": null,
   "id": "967bda2e-6fcb-4df0-8a6f-430226ff8f67",
   "metadata": {},
   "outputs": [],
   "source": [
    "ds.eastward_wind_at_100_metres[100,100,100].values"
   ]
  },
  {
   "cell_type": "markdown",
   "id": "6f7627ef-3032-4161-aa05-892496f70ad0",
   "metadata": {},
   "source": [
    "# Now try with NWB files on DANDI S3"
   ]
  },
  {
   "cell_type": "code",
   "execution_count": null,
   "id": "82443796-433d-4f5c-914a-12d7f42be2cd",
   "metadata": {},
   "outputs": [],
   "source": [
    "from kerchunk.hdf import SingleHdf5ToZarr\n",
    "import fsspec"
   ]
  },
  {
   "cell_type": "code",
   "execution_count": null,
   "id": "4b8e6a66-12ab-458e-9ab1-f74c27c417e3",
   "metadata": {},
   "outputs": [],
   "source": [
    "# from dandi.dandiapi import DandiAPIClient\n",
    "\n",
    "# dandiset_id = '000053'\n",
    "# filepath = 'sub-npI1/sub-npI1_ses-20190413_behavior+ecephys.nwb'\n",
    "# with DandiAPIClient() as client:\n",
    "#     asset = client.get_dandiset(dandiset_id, 'draft').get_asset_by_path(filepath)\n",
    "#     s3_url = asset.get_content_url(follow_redirects=1, strip_query=True)\n",
    "\n",
    "# print(s3_url)"
   ]
  },
  {
   "cell_type": "code",
   "execution_count": null,
   "id": "3b406a11-31a6-4736-8761-0285cff20325",
   "metadata": {},
   "outputs": [],
   "source": [
    "# OR get s3 URL from dandi website for this NWB file\n",
    "# https://api.dandiarchive.org/api/dandisets/000053/versions/0.210819.0345/assets/22f70021-de36-44c4-8f29-4998b9ff1123/\n",
    "# s3_url = \"https://dandiarchive.s3.amazonaws.com/blobs/d74/1e1/d741e149-620a-4eab-a0c0-24c8133d0fc7\""
   ]
  },
  {
   "cell_type": "code",
   "execution_count": null,
   "id": "c98b05c9-2b0b-4a80-9a3e-55e80d1bed32",
   "metadata": {},
   "outputs": [],
   "source": [
    "s3_url = \"s3://dandiarchive/blobs/d74/1e1/d741e149-620a-4eab-a0c0-24c8133d0fc7\""
   ]
  },
  {
   "cell_type": "code",
   "execution_count": null,
   "id": "b2d4bf46-e5f2-4d85-8974-49e09855eb33",
   "metadata": {},
   "outputs": [],
   "source": [
    "fs = fsspec.filesystem('s3', anon=True)  # HTTP file system to manage DANDI NWB files\n",
    "fs2 = fsspec.filesystem('')  # local file system to save final jsons to"
   ]
  },
  {
   "cell_type": "code",
   "execution_count": null,
   "id": "466e6d66-d4b7-4035-bce4-417b8f3de702",
   "metadata": {},
   "outputs": [],
   "source": [
    "from pathlib import Path\n",
    "import os\n",
    "import ujson\n",
    "\n",
    "so = dict(mode='rb', anon=True, default_fill_cache=False, default_cache_type='first') # kwargs to fs.open()\n",
    "# default_fill_cache=False avoids caching data in between file chunks to lower memory usage."
   ]
  },
  {
   "cell_type": "code",
   "execution_count": null,
   "id": "a7ec8a40-0718-445e-84db-3ef4bf53db11",
   "metadata": {},
   "outputs": [],
   "source": [
    "def gen_json(file_url, outf):\n",
    "    \"\"\"Generate JSON reference files using a file_url\n",
    "    \n",
    "    file_url should be the url of the final file destination and not the current location.\n",
    "    file_url is not used to open the file and is intended to allow the user to compute the \n",
    "    reference files on data before it is uploaded to its final storage location.\n",
    "    \"\"\"\n",
    "    with fs.open(file_url, **so) as infile:\n",
    "        h5chunks = SingleHdf5ToZarr(infile, file_url, inline_threshold=300)  # 300 bytes???\n",
    "        # inline_threshold adjusts the Size below which binary blocks are included directly in the output\n",
    "        # a higher inline threshold can result in a larger json file but faster loading time\n",
    "\n",
    "        with fs2.open(outf, 'wb') as f:\n",
    "            f.write(ujson.dumps(h5chunks.translate()).encode())"
   ]
  },
  {
   "cell_type": "code",
   "execution_count": null,
   "id": "9dda0f22-7d04-43e5-bc58-eb042d0778e3",
   "metadata": {},
   "outputs": [],
   "source": [
    "%%time\n",
    "outf = '000053_sub-npI1_ses-20190413_behavior+ecephys.nwb.json'  # file name to save json to\n",
    "gen_json(s3_url, outf)\n",
    "\n",
    "# this takes a long time????\n",
    "# this needs a progress bar or something!!!\n",
    "\n",
    "# compare this to downloading the file and creating this JSON locally\n",
    "# that might actually be faster"
   ]
  },
  {
   "cell_type": "markdown",
   "id": "a6b0c99b-c725-452b-8fe9-d3eeefd0a462",
   "metadata": {},
   "source": [
    "# Try with local NWB files"
   ]
  },
  {
   "cell_type": "code",
   "execution_count": 1,
   "id": "84715e22-2f81-4903-9ff7-1f961a37e16f",
   "metadata": {},
   "outputs": [],
   "source": [
    "from kerchunk.hdf import SingleHdf5ToZarr\n",
    "import fsspec\n",
    "import ujson"
   ]
  },
  {
   "cell_type": "code",
   "execution_count": 2,
   "id": "bf23cb01-3865-4dc7-b297-92ee5c8f8ec8",
   "metadata": {},
   "outputs": [],
   "source": [
    "fs_read = fsspec.filesystem('')  # local file system to read from\n",
    "fs_write = fsspec.filesystem('')  # local file system to save final jsons to"
   ]
  },
  {
   "cell_type": "code",
   "execution_count": 3,
   "id": "6fdb384c-e1e5-4455-bc8d-d1d19b5395bd",
   "metadata": {},
   "outputs": [],
   "source": [
    "def gen_json_from_local(local_file_path, final_remote_url, outf):\n",
    "    \"\"\"Generate JSON reference files using a file_url\n",
    "    \n",
    "    file_url should be the url of the final file destination and not the current location.\n",
    "    file_url is not used to open the file and is intended to allow the user to compute the \n",
    "    reference files on data before it is uploaded to its final storage location.\n",
    "    \"\"\"\n",
    "    with fs_read.open(local_file_path, 'rb') as infile:\n",
    "        h5chunks = SingleHdf5ToZarr(infile, final_remote_url, inline_threshold=300, error=\"raise\")  # 300 bytes???\n",
    "        # inline_threshold adjusts the Size below which binary blocks are included directly in the output\n",
    "        # a higher inline threshold can result in a larger json file but faster loading time\n",
    "\n",
    "        with fs_write.open(outf, 'wb') as f:\n",
    "            f.write(ujson.dumps(h5chunks.translate()).encode())"
   ]
  },
  {
   "cell_type": "code",
   "execution_count": null,
   "id": "74c98824-4479-4887-a276-0f46c1a8292d",
   "metadata": {},
   "outputs": [],
   "source": [
    "%%time\n",
    "%pdb on\n",
    "local_file_path = \"/Users/rly/Documents/NWB_Data/dandisets/000053/sub-npI1/sub-npI1_ses-20190413_behavior+ecephys.nwb\"\n",
    "final_remote_url = \"s3://dandiarchive/blobs/d74/1e1/d741e149-620a-4eab-a0c0-24c8133d0fc7\"\n",
    "outf = \"000053_sub-npI1_ses-20190413_behavior+ecephys.nwb.json\"  # file name to save json to\n",
    "gen_json_from_local(local_file_path, final_remote_url, outf)"
   ]
  },
  {
   "cell_type": "code",
   "execution_count": null,
   "id": "302d8d54-9112-46cc-b178-96b77e9c79ad",
   "metadata": {},
   "outputs": [],
   "source": [
    "%debug"
   ]
  },
  {
   "cell_type": "code",
   "execution_count": null,
   "id": "7d1c1f1c-c43c-4630-b09f-6f664c422ce9",
   "metadata": {
    "scrolled": true
   },
   "outputs": [],
   "source": [
    "%%time\n",
    "local_file_path = \"/Users/rly/Documents/NWB/kerchunk-playground/test_str.h5\"\n",
    "final_remote_url = \"s3://...\"\n",
    "outf = \"test_str.json\"  # file name to save json to\n",
    "gen_json_from_local(local_file_path, final_remote_url, outf)"
   ]
  },
  {
   "cell_type": "code",
   "execution_count": null,
   "id": "2edc42f2-97f1-4036-b647-8aa52a50200f",
   "metadata": {},
   "outputs": [],
   "source": [
    "%%time\n",
    "local_file_path = \"/Users/rly/Documents/NWB/kerchunk-playground/test_bytes.h5\"\n",
    "final_remote_url = \"s3://...\"\n",
    "outf = \"test_bytes.json\"  # file name to save json to\n",
    "gen_json_from_local(local_file_path, final_remote_url, outf)"
   ]
  },
  {
   "cell_type": "code",
   "execution_count": null,
   "id": "699d8ae5-6a22-4fc7-a6f5-31ba64b25c08",
   "metadata": {},
   "outputs": [],
   "source": [
    "%%time\n",
    "local_file_path = \"/Users/rly/Documents/NWB/kerchunk-playground/test_int.h5\"\n",
    "final_remote_url = \"s3://...\"\n",
    "outf = \"test_int.json\"  # file name to save json to\n",
    "gen_json_from_local(local_file_path, final_remote_url, outf)"
   ]
  },
  {
   "cell_type": "code",
   "execution_count": 4,
   "id": "4e3e6b48-68a8-4c43-8e8d-d879228b1c8f",
   "metadata": {},
   "outputs": [
    {
     "name": "stdout",
     "output_type": "stream",
     "text": [
      "CPU times: user 8.55 ms, sys: 5.79 ms, total: 14.3 ms\n",
      "Wall time: 15.8 ms\n"
     ]
    }
   ],
   "source": [
    "%%time\n",
    "local_file_path = \"/Users/rly/Documents/NWB/kerchunk-playground/test_multi_str.h5\"\n",
    "final_remote_url = \"s3://...\"\n",
    "outf = \"test_multi_str.json\"  # file name to save json to\n",
    "gen_json_from_local(local_file_path, final_remote_url, outf)"
   ]
  },
  {
   "cell_type": "code",
   "execution_count": 10,
   "id": "eadf01f3-e817-4d36-b02d-33fbb334d36c",
   "metadata": {},
   "outputs": [
    {
     "data": {
      "text/plain": [
       "array(['test', 'more test'], dtype=object)"
      ]
     },
     "execution_count": 10,
     "metadata": {},
     "output_type": "execute_result"
    }
   ],
   "source": [
    "import zarr\n",
    "z = zarr.open(\"reference://\", storage_options={\"fo\": \"test_multi_str_json_codec.json\"})\n",
    "z[\"data\"][:]"
   ]
  },
  {
   "cell_type": "code",
   "execution_count": 11,
   "id": "f76f9fda-7e11-40d5-a6f6-bf69da310bb8",
   "metadata": {},
   "outputs": [
    {
     "data": {
      "text/plain": [
       "array(['test', 'more test'], dtype=object)"
      ]
     },
     "execution_count": 11,
     "metadata": {},
     "output_type": "execute_result"
    }
   ],
   "source": [
    "import zarr\n",
    "z = zarr.open(\"reference://\", storage_options={\"fo\": \"test_multi_str_vlenutf8_codec.json\"})\n",
    "z[\"data\"][:]"
   ]
  },
  {
   "cell_type": "code",
   "execution_count": 13,
   "id": "77d792a8-cd7b-41d0-979d-ab682c772059",
   "metadata": {},
   "outputs": [
    {
     "data": {
      "text/plain": [
       "'test'"
      ]
     },
     "execution_count": 13,
     "metadata": {},
     "output_type": "execute_result"
    }
   ],
   "source": [
    "import zarr\n",
    "z = zarr.open(\"reference://\", storage_options={\"fo\": \"test_str.json\"})\n",
    "z[\"data\"][()]"
   ]
  },
  {
   "cell_type": "markdown",
   "id": "4c8135e9-ffe1-46a2-908f-434fa88813ee",
   "metadata": {},
   "source": [
    "# Normal streaming"
   ]
  },
  {
   "cell_type": "code",
   "execution_count": null,
   "id": "e7e64918-e91f-4622-a9ae-6ceda481a40e",
   "metadata": {},
   "outputs": [],
   "source": [
    "import h5py\n",
    "import pynwb"
   ]
  },
  {
   "cell_type": "code",
   "execution_count": null,
   "id": "a209c768-7401-4651-8cd4-79d7c7277e43",
   "metadata": {},
   "outputs": [],
   "source": [
    "fs = fsspec.filesystem(\"http\")\n",
    "with fs.open(s3_url, \"rb\") as f:\n",
    "    with h5py.File(f) as file:\n",
    "        with pynwb.NWBHDF5IO(file=file, load_namespaces=True) as io:\n",
    "            nwbfile = io.read()\n",
    "            print(nwbfile)"
   ]
  },
  {
   "cell_type": "markdown",
   "id": "14ead66a-181d-4be5-b197-4e032bfa3c73",
   "metadata": {},
   "source": [
    "# Zarr test with scalar dataset"
   ]
  },
  {
   "cell_type": "code",
   "execution_count": null,
   "id": "c0b8ff6d-6bae-4735-ad7e-46a1c1a1ff4e",
   "metadata": {},
   "outputs": [],
   "source": [
    "import zarr\n",
    "import numpy as np\n",
    "import numcodecs"
   ]
  },
  {
   "cell_type": "code",
   "execution_count": null,
   "id": "76cc6ce3-dc6d-45c0-8161-af93f107abca",
   "metadata": {},
   "outputs": [],
   "source": [
    "z = zarr.zeros(shape=tuple(), dtype=str)"
   ]
  },
  {
   "cell_type": "code",
   "execution_count": null,
   "id": "905dcbda-4925-4b30-bd18-4636743d9da6",
   "metadata": {},
   "outputs": [],
   "source": [
    "z[...] = \"test\""
   ]
  },
  {
   "cell_type": "code",
   "execution_count": null,
   "id": "8b94fe5e-a245-4e06-a617-35fc30587af5",
   "metadata": {},
   "outputs": [],
   "source": [
    "z"
   ]
  },
  {
   "cell_type": "code",
   "execution_count": null,
   "id": "e2250456-189c-4d20-8926-9902c99226eb",
   "metadata": {},
   "outputs": [],
   "source": [
    "z[()]"
   ]
  },
  {
   "cell_type": "code",
   "execution_count": null,
   "id": "0c2c0eb5-48c9-412b-ab9c-264845204559",
   "metadata": {},
   "outputs": [],
   "source": [
    "data = np.array(\"test\")"
   ]
  },
  {
   "cell_type": "code",
   "execution_count": null,
   "id": "6964e1d7-565e-42c7-8faa-67033f1f6500",
   "metadata": {},
   "outputs": [],
   "source": [
    "z = zarr.array(data)"
   ]
  },
  {
   "cell_type": "code",
   "execution_count": null,
   "id": "f41dcc1b-2262-425a-9864-a608b3e8210d",
   "metadata": {},
   "outputs": [],
   "source": [
    "z"
   ]
  },
  {
   "cell_type": "code",
   "execution_count": null,
   "id": "6ed7d386-27d8-481b-8c7e-9c127dbd2682",
   "metadata": {},
   "outputs": [],
   "source": [
    "z[()]"
   ]
  },
  {
   "cell_type": "code",
   "execution_count": null,
   "id": "370f0e79-6d39-49c9-b84d-89e5c8461c5d",
   "metadata": {},
   "outputs": [],
   "source": [
    "z = zarr.array(data=\"test\", object_codec=numcodecs.JSON())\n",
    "z"
   ]
  },
  {
   "cell_type": "code",
   "execution_count": null,
   "id": "a129e099-127b-49c1-83ba-2ef7e1c2e03e",
   "metadata": {},
   "outputs": [],
   "source": [
    "z = zarr.empty(shape=tuple(), dtype=str, object_codec=numcodecs.JSON())\n",
    "z[...] = \"test\""
   ]
  },
  {
   "cell_type": "code",
   "execution_count": null,
   "id": "fe60fd60-1191-4138-b0be-23945810aa73",
   "metadata": {},
   "outputs": [],
   "source": [
    "z = zarr.array(data=\"test\", object_codec=numcodecs.JSON())\n",
    "z"
   ]
  },
  {
   "cell_type": "code",
   "execution_count": null,
   "id": "d8e82458-92b5-4b14-a263-96d6457f20f8",
   "metadata": {},
   "outputs": [],
   "source": [
    "z = zarr.array(data=\"test\", dtype=str, object_codec=numcodecs.JSON())"
   ]
  },
  {
   "cell_type": "code",
   "execution_count": null,
   "id": "fc9e4d16-1ee0-4b6d-b193-76e5746966fe",
   "metadata": {},
   "outputs": [],
   "source": [
    "z = zarr.array(data=\"test\", dtype=str)"
   ]
  },
  {
   "cell_type": "code",
   "execution_count": null,
   "id": "fcc16fb7-49f9-4dde-addf-52255bb30559",
   "metadata": {},
   "outputs": [],
   "source": [
    "z"
   ]
  },
  {
   "cell_type": "code",
   "execution_count": null,
   "id": "6554e71c-aad1-4a91-8f54-628bffc897b6",
   "metadata": {},
   "outputs": [],
   "source": [
    "z[()]"
   ]
  },
  {
   "cell_type": "code",
   "execution_count": null,
   "id": "b104bbdc-b68f-4b83-a5b6-04d1bd48e3fa",
   "metadata": {},
   "outputs": [],
   "source": [
    "z = zarr.array(data=[\"test\", \"more test\"], dtype=str)"
   ]
  },
  {
   "cell_type": "code",
   "execution_count": null,
   "id": "91c8559f-d3f0-4ad6-ab2d-956d6ed19a3d",
   "metadata": {},
   "outputs": [],
   "source": [
    "z"
   ]
  },
  {
   "cell_type": "code",
   "execution_count": null,
   "id": "47780d8c-b637-4196-9765-91e3af37c47e",
   "metadata": {},
   "outputs": [],
   "source": [
    "import h5py\n",
    "with h5py.File(\"test_int.h5\", \"w\") as f:\n",
    "    f.create_dataset(\"data\", data=42, shape=None, dtype=int)\n",
    "    print(f[\"data\"].shape)"
   ]
  },
  {
   "cell_type": "code",
   "execution_count": null,
   "id": "8b8aa652-fe3a-4c3b-8d9e-13f44b831f1e",
   "metadata": {},
   "outputs": [],
   "source": [
    "with h5py.File(\"test_str.h5\", \"r\") as h5_file:\n",
    "    zarr.copy_all(h5_file, zarr.open(\"test_out.zarr\", \"w\"))"
   ]
  },
  {
   "cell_type": "code",
   "execution_count": null,
   "id": "cc4402cc-a27b-4355-b587-360d05038a4d",
   "metadata": {},
   "outputs": [],
   "source": []
  }
 ],
 "metadata": {
  "kernelspec": {
   "display_name": "Python 3 (ipykernel)",
   "language": "python",
   "name": "python3"
  },
  "language_info": {
   "codemirror_mode": {
    "name": "ipython",
    "version": 3
   },
   "file_extension": ".py",
   "mimetype": "text/x-python",
   "name": "python",
   "nbconvert_exporter": "python",
   "pygments_lexer": "ipython3",
   "version": "3.11.6"
  }
 },
 "nbformat": 4,
 "nbformat_minor": 5
}
